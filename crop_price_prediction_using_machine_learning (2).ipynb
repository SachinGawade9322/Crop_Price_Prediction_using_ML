{
 "cells": [
  {
   "cell_type": "code",
   "execution_count": 73,
   "id": "0defcb4f",
   "metadata": {},
   "outputs": [],
   "source": [
    "import numpy as np\n",
    "import pandas as pd\n",
    "import matplotlib.pyplot as plt\n",
    "%matplotlib inline\n",
    "import seaborn as sns\n",
    "import warnings\n",
    "warnings.filterwarnings('ignore')"
   ]
  },
  {
   "cell_type": "markdown",
   "id": "92622c74",
   "metadata": {},
   "source": [
    "# Data Collection"
   ]
  },
  {
   "cell_type": "code",
   "execution_count": 2,
   "id": "7041a3c5",
   "metadata": {},
   "outputs": [],
   "source": [
    "df = pd.read_csv('crop_price_prediction_machine_learning.csv', delimiter = ',')"
   ]
  },
  {
   "cell_type": "code",
   "execution_count": 3,
   "id": "5f1344ca",
   "metadata": {},
   "outputs": [
    {
     "data": {
      "text/html": [
       "<div>\n",
       "<style scoped>\n",
       "    .dataframe tbody tr th:only-of-type {\n",
       "        vertical-align: middle;\n",
       "    }\n",
       "\n",
       "    .dataframe tbody tr th {\n",
       "        vertical-align: top;\n",
       "    }\n",
       "\n",
       "    .dataframe thead th {\n",
       "        text-align: right;\n",
       "    }\n",
       "</style>\n",
       "<table border=\"1\" class=\"dataframe\">\n",
       "  <thead>\n",
       "    <tr style=\"text-align: right;\">\n",
       "      <th></th>\n",
       "      <th>Unnamed: 0</th>\n",
       "      <th>State_Name</th>\n",
       "      <th>District_Name</th>\n",
       "      <th>Crop_Year</th>\n",
       "      <th>Season</th>\n",
       "      <th>Crop</th>\n",
       "      <th>Area</th>\n",
       "      <th>Production</th>\n",
       "      <th>Price_Kg</th>\n",
       "    </tr>\n",
       "  </thead>\n",
       "  <tbody>\n",
       "    <tr>\n",
       "      <th>0</th>\n",
       "      <td>0</td>\n",
       "      <td>Andaman and Nicobar Islands</td>\n",
       "      <td>NICOBARS</td>\n",
       "      <td>2006</td>\n",
       "      <td>Kharif</td>\n",
       "      <td>Arecanut</td>\n",
       "      <td>1254.0</td>\n",
       "      <td>2000.0</td>\n",
       "      <td>699.0</td>\n",
       "    </tr>\n",
       "    <tr>\n",
       "      <th>1</th>\n",
       "      <td>2</td>\n",
       "      <td>Andaman and Nicobar Islands</td>\n",
       "      <td>NICOBARS</td>\n",
       "      <td>2006</td>\n",
       "      <td>Kharif</td>\n",
       "      <td>Rice</td>\n",
       "      <td>102.0</td>\n",
       "      <td>321.0</td>\n",
       "      <td>34.0</td>\n",
       "    </tr>\n",
       "    <tr>\n",
       "      <th>2</th>\n",
       "      <td>3</td>\n",
       "      <td>Andaman and Nicobar Islands</td>\n",
       "      <td>NICOBARS</td>\n",
       "      <td>2006</td>\n",
       "      <td>Whole Year</td>\n",
       "      <td>Banana</td>\n",
       "      <td>176.0</td>\n",
       "      <td>641.0</td>\n",
       "      <td>30.0</td>\n",
       "    </tr>\n",
       "    <tr>\n",
       "      <th>3</th>\n",
       "      <td>4</td>\n",
       "      <td>Andaman and Nicobar Islands</td>\n",
       "      <td>NICOBARS</td>\n",
       "      <td>2006</td>\n",
       "      <td>Whole Year</td>\n",
       "      <td>Cashewnut</td>\n",
       "      <td>720.0</td>\n",
       "      <td>165.0</td>\n",
       "      <td>696.0</td>\n",
       "    </tr>\n",
       "    <tr>\n",
       "      <th>4</th>\n",
       "      <td>5</td>\n",
       "      <td>Andaman and Nicobar Islands</td>\n",
       "      <td>NICOBARS</td>\n",
       "      <td>2006</td>\n",
       "      <td>Whole Year</td>\n",
       "      <td>Coconut</td>\n",
       "      <td>18168.0</td>\n",
       "      <td>65100000.0</td>\n",
       "      <td>20.0</td>\n",
       "    </tr>\n",
       "  </tbody>\n",
       "</table>\n",
       "</div>"
      ],
      "text/plain": [
       "   Unnamed: 0                   State_Name District_Name  Crop_Year  \\\n",
       "0           0  Andaman and Nicobar Islands      NICOBARS       2006   \n",
       "1           2  Andaman and Nicobar Islands      NICOBARS       2006   \n",
       "2           3  Andaman and Nicobar Islands      NICOBARS       2006   \n",
       "3           4  Andaman and Nicobar Islands      NICOBARS       2006   \n",
       "4           5  Andaman and Nicobar Islands      NICOBARS       2006   \n",
       "\n",
       "        Season       Crop     Area  Production  Price_Kg  \n",
       "0  Kharif        Arecanut   1254.0      2000.0     699.0  \n",
       "1  Kharif            Rice    102.0       321.0      34.0  \n",
       "2  Whole Year      Banana    176.0       641.0      30.0  \n",
       "3  Whole Year   Cashewnut    720.0       165.0     696.0  \n",
       "4  Whole Year    Coconut   18168.0  65100000.0      20.0  "
      ]
     },
     "execution_count": 3,
     "metadata": {},
     "output_type": "execute_result"
    }
   ],
   "source": [
    "df.head()"
   ]
  },
  {
   "cell_type": "markdown",
   "id": "c0b805d0",
   "metadata": {},
   "source": [
    "# Data Preprocessing (Feature Extraction & Data cleaning)"
   ]
  },
  {
   "cell_type": "code",
   "execution_count": 4,
   "id": "a709da3b",
   "metadata": {},
   "outputs": [
    {
     "name": "stdout",
     "output_type": "stream",
     "text": [
      "<class 'pandas.core.frame.DataFrame'>\n",
      "RangeIndex: 230164 entries, 0 to 230163\n",
      "Data columns (total 9 columns):\n",
      " #   Column         Non-Null Count   Dtype  \n",
      "---  ------         --------------   -----  \n",
      " 0   Unnamed: 0     230164 non-null  int64  \n",
      " 1   State_Name     230164 non-null  object \n",
      " 2   District_Name  230164 non-null  object \n",
      " 3   Crop_Year      230164 non-null  int64  \n",
      " 4   Season         230164 non-null  object \n",
      " 5   Crop           230164 non-null  object \n",
      " 6   Area           230164 non-null  float64\n",
      " 7   Production     226434 non-null  float64\n",
      " 8   Price_Kg       226434 non-null  float64\n",
      "dtypes: float64(3), int64(2), object(4)\n",
      "memory usage: 15.8+ MB\n"
     ]
    }
   ],
   "source": [
    "df.info()"
   ]
  },
  {
   "cell_type": "code",
   "execution_count": 5,
   "id": "bc915313",
   "metadata": {},
   "outputs": [
    {
     "data": {
      "text/plain": [
       "Unnamed: 0          0\n",
       "State_Name          0\n",
       "District_Name       0\n",
       "Crop_Year           0\n",
       "Season              0\n",
       "Crop                0\n",
       "Area                0\n",
       "Production       3730\n",
       "Price_Kg         3730\n",
       "dtype: int64"
      ]
     },
     "execution_count": 5,
     "metadata": {},
     "output_type": "execute_result"
    }
   ],
   "source": [
    "df.isnull().sum()"
   ]
  },
  {
   "cell_type": "code",
   "execution_count": 6,
   "id": "5327fcb5",
   "metadata": {},
   "outputs": [],
   "source": [
    "df['Production'] = df['Production'].fillna(np.mean(df['Production']))\n",
    "df['Price_Kg'] = df['Price_Kg'].fillna(np.mean(df['Price_Kg']))"
   ]
  },
  {
   "cell_type": "code",
   "execution_count": 7,
   "id": "5f3fa32f",
   "metadata": {},
   "outputs": [
    {
     "data": {
      "text/plain": [
       "Unnamed: 0       0\n",
       "State_Name       0\n",
       "District_Name    0\n",
       "Crop_Year        0\n",
       "Season           0\n",
       "Crop             0\n",
       "Area             0\n",
       "Production       0\n",
       "Price_Kg         0\n",
       "dtype: int64"
      ]
     },
     "execution_count": 7,
     "metadata": {},
     "output_type": "execute_result"
    }
   ],
   "source": [
    "df.isnull().sum()"
   ]
  },
  {
   "cell_type": "code",
   "execution_count": 8,
   "id": "ed519edc",
   "metadata": {},
   "outputs": [
    {
     "name": "stdout",
     "output_type": "stream",
     "text": [
      "<class 'pandas.core.frame.DataFrame'>\n",
      "RangeIndex: 230164 entries, 0 to 230163\n",
      "Data columns (total 9 columns):\n",
      " #   Column         Non-Null Count   Dtype  \n",
      "---  ------         --------------   -----  \n",
      " 0   Unnamed: 0     230164 non-null  int64  \n",
      " 1   State_Name     230164 non-null  object \n",
      " 2   District_Name  230164 non-null  object \n",
      " 3   Crop_Year      230164 non-null  int64  \n",
      " 4   Season         230164 non-null  object \n",
      " 5   Crop           230164 non-null  object \n",
      " 6   Area           230164 non-null  float64\n",
      " 7   Production     230164 non-null  float64\n",
      " 8   Price_Kg       230164 non-null  float64\n",
      "dtypes: float64(3), int64(2), object(4)\n",
      "memory usage: 15.8+ MB\n"
     ]
    }
   ],
   "source": [
    "df.info()"
   ]
  },
  {
   "cell_type": "code",
   "execution_count": 9,
   "id": "4f1e169c",
   "metadata": {},
   "outputs": [],
   "source": [
    "df.drop(columns = [\"Unnamed: 0\"], inplace = True)"
   ]
  },
  {
   "cell_type": "code",
   "execution_count": 10,
   "id": "f01fc2b0",
   "metadata": {},
   "outputs": [
    {
     "data": {
      "text/html": [
       "<div>\n",
       "<style scoped>\n",
       "    .dataframe tbody tr th:only-of-type {\n",
       "        vertical-align: middle;\n",
       "    }\n",
       "\n",
       "    .dataframe tbody tr th {\n",
       "        vertical-align: top;\n",
       "    }\n",
       "\n",
       "    .dataframe thead th {\n",
       "        text-align: right;\n",
       "    }\n",
       "</style>\n",
       "<table border=\"1\" class=\"dataframe\">\n",
       "  <thead>\n",
       "    <tr style=\"text-align: right;\">\n",
       "      <th></th>\n",
       "      <th>State_Name</th>\n",
       "      <th>District_Name</th>\n",
       "      <th>Crop_Year</th>\n",
       "      <th>Season</th>\n",
       "      <th>Crop</th>\n",
       "      <th>Area</th>\n",
       "      <th>Production</th>\n",
       "      <th>Price_Kg</th>\n",
       "    </tr>\n",
       "  </thead>\n",
       "  <tbody>\n",
       "    <tr>\n",
       "      <th>0</th>\n",
       "      <td>Andaman and Nicobar Islands</td>\n",
       "      <td>NICOBARS</td>\n",
       "      <td>2006</td>\n",
       "      <td>Kharif</td>\n",
       "      <td>Arecanut</td>\n",
       "      <td>1254.0</td>\n",
       "      <td>2000.0</td>\n",
       "      <td>699.0</td>\n",
       "    </tr>\n",
       "    <tr>\n",
       "      <th>1</th>\n",
       "      <td>Andaman and Nicobar Islands</td>\n",
       "      <td>NICOBARS</td>\n",
       "      <td>2006</td>\n",
       "      <td>Kharif</td>\n",
       "      <td>Rice</td>\n",
       "      <td>102.0</td>\n",
       "      <td>321.0</td>\n",
       "      <td>34.0</td>\n",
       "    </tr>\n",
       "    <tr>\n",
       "      <th>2</th>\n",
       "      <td>Andaman and Nicobar Islands</td>\n",
       "      <td>NICOBARS</td>\n",
       "      <td>2006</td>\n",
       "      <td>Whole Year</td>\n",
       "      <td>Banana</td>\n",
       "      <td>176.0</td>\n",
       "      <td>641.0</td>\n",
       "      <td>30.0</td>\n",
       "    </tr>\n",
       "    <tr>\n",
       "      <th>3</th>\n",
       "      <td>Andaman and Nicobar Islands</td>\n",
       "      <td>NICOBARS</td>\n",
       "      <td>2006</td>\n",
       "      <td>Whole Year</td>\n",
       "      <td>Cashewnut</td>\n",
       "      <td>720.0</td>\n",
       "      <td>165.0</td>\n",
       "      <td>696.0</td>\n",
       "    </tr>\n",
       "    <tr>\n",
       "      <th>4</th>\n",
       "      <td>Andaman and Nicobar Islands</td>\n",
       "      <td>NICOBARS</td>\n",
       "      <td>2006</td>\n",
       "      <td>Whole Year</td>\n",
       "      <td>Coconut</td>\n",
       "      <td>18168.0</td>\n",
       "      <td>65100000.0</td>\n",
       "      <td>20.0</td>\n",
       "    </tr>\n",
       "  </tbody>\n",
       "</table>\n",
       "</div>"
      ],
      "text/plain": [
       "                    State_Name District_Name  Crop_Year       Season  \\\n",
       "0  Andaman and Nicobar Islands      NICOBARS       2006  Kharif        \n",
       "1  Andaman and Nicobar Islands      NICOBARS       2006  Kharif        \n",
       "2  Andaman and Nicobar Islands      NICOBARS       2006  Whole Year    \n",
       "3  Andaman and Nicobar Islands      NICOBARS       2006  Whole Year    \n",
       "4  Andaman and Nicobar Islands      NICOBARS       2006  Whole Year    \n",
       "\n",
       "        Crop     Area  Production  Price_Kg  \n",
       "0   Arecanut   1254.0      2000.0     699.0  \n",
       "1       Rice    102.0       321.0      34.0  \n",
       "2     Banana    176.0       641.0      30.0  \n",
       "3  Cashewnut    720.0       165.0     696.0  \n",
       "4   Coconut   18168.0  65100000.0      20.0  "
      ]
     },
     "execution_count": 10,
     "metadata": {},
     "output_type": "execute_result"
    }
   ],
   "source": [
    "df.head()"
   ]
  },
  {
   "cell_type": "code",
   "execution_count": 11,
   "id": "b5f5a218",
   "metadata": {},
   "outputs": [
    {
     "data": {
      "text/plain": [
       "array(['Andaman and Nicobar Islands', 'Andhra Pradesh',\n",
       "       'Arunachal Pradesh', 'Assam', 'Bihar', 'Chandigarh',\n",
       "       'Chhattisgarh', 'Dadra and Nagar Haveli', 'Goa', 'Gujarat',\n",
       "       'Haryana', 'Himachal Pradesh', 'Jammu and Kashmir ', 'Jharkhand',\n",
       "       'Karnataka', 'Kerala', 'Madhya Pradesh', 'Maharashtra', 'Manipur',\n",
       "       'Meghalaya', 'Mizoram', 'Nagaland', 'Odisha', 'Puducherry',\n",
       "       'Punjab', 'Rajasthan', 'Sikkim', 'Tamil Nadu', 'Telangana ',\n",
       "       'Tripura', 'Uttar Pradesh', 'Uttarakhand', 'West Bengal'],\n",
       "      dtype=object)"
      ]
     },
     "execution_count": 11,
     "metadata": {},
     "output_type": "execute_result"
    }
   ],
   "source": [
    "df['State_Name'].unique()"
   ]
  },
  {
   "cell_type": "code",
   "execution_count": 12,
   "id": "2072777b",
   "metadata": {},
   "outputs": [
    {
     "data": {
      "text/plain": [
       "array(['Arecanut', 'Rice', 'Banana', 'Cashewnut', 'Coconut ',\n",
       "       'Dry ginger', 'Sweet potato', 'Tapioca', 'Black pepper',\n",
       "       'Dry chillies', 'Sugarcane', 'Turmeric', 'Maize',\n",
       "       'Other Kharif pulses', 'other oilseeds', 'Arhar/Tur', 'Groundnut',\n",
       "       'Moong(Green Gram)', 'Urad', 'Bajra', 'Castor seed',\n",
       "       'Cotton(lint)', 'Horse-gram', 'Jowar', 'Korra', 'Ragi',\n",
       "       'Sunflower', 'Tobacco', 'Gram', 'Wheat', 'Masoor', 'Safflower',\n",
       "       'Onion', 'other misc. pulses', 'Samai', 'Small millets',\n",
       "       'Coriander', 'Potato', 'Beans & Mutter(Vegetable)', 'Bhindi',\n",
       "       'Brinjal', 'Citrus Fruit', 'Grapes', 'Mango', 'Orange',\n",
       "       'Other Fresh Fruits', 'Papaya', 'Pome Fruit', 'Tomato', 'Soyabean',\n",
       "       'Linseed', 'Rapeseed &Mustard', 'Mesta', 'Cowpea(Lobia)', 'Lemon',\n",
       "       'Pome Granet', 'Sapota', 'Cabbage', 'Sesamum',\n",
       "       'Other  Rabi pulses', 'Niger seed', 'Sannhamp', 'Varagu', 'Garlic',\n",
       "       'Ginger', 'Oilseeds total', 'Pulses total', 'Jute',\n",
       "       'Peas & beans (Pulses)', 'Blackgram', 'Paddy', 'Pineapple',\n",
       "       'Barley', 'Khesari', 'Guar seed', 'Other Vegetables', 'Moth',\n",
       "       'Other Cereals & Millets', 'Cond-spcs other', 'Turnip', 'Carrot',\n",
       "       'Redish', 'Arcanut (Processed)', 'Atcanut (Raw)', 'Cashewnut Raw',\n",
       "       'Cardamom', 'Cashewnut Processed', 'Rubber', 'Drum Stick',\n",
       "       'Jack Fruit', 'Pump Kin', 'Coffee', 'Tea', 'Total foodgrain',\n",
       "       'Cauliflower', 'Bitter Gourd', 'Bottle Gourd', 'Kapas',\n",
       "       'Colocosia', 'Lentil', 'Bean', 'Jobster', 'Perilla',\n",
       "       'Rajmash Kholar', 'Ricebean (nagadal)', 'Jute & mesta'],\n",
       "      dtype=object)"
      ]
     },
     "execution_count": 12,
     "metadata": {},
     "output_type": "execute_result"
    }
   ],
   "source": [
    "df['Crop'].unique()"
   ]
  },
  {
   "cell_type": "markdown",
   "id": "cfa38329",
   "metadata": {},
   "source": [
    "# Data Visualization & EDA (Exploratory Data Analysis)"
   ]
  },
  {
   "cell_type": "code",
   "execution_count": 13,
   "id": "0d8e9e76",
   "metadata": {},
   "outputs": [],
   "source": [
    "correlation_matrix = df.corr()"
   ]
  },
  {
   "cell_type": "code",
   "execution_count": 14,
   "id": "1f8262b1",
   "metadata": {},
   "outputs": [
    {
     "data": {
      "image/png": "[encoded data removed]",
      "text/plain": [
       "<Figure size 1000x800 with 2 Axes>"
      ]
     },
     "metadata": {},
     "output_type": "display_data"
    }
   ],
   "source": [
    "plt.figure(figsize=(10, 8))\n",
    "sns.heatmap(correlation_matrix, annot=True, cmap='coolwarm', linewidths=0.5)\n",
    "plt.title('Correlation Heatmap')\n",
    "plt.show()"
   ]
  },
  {
   "cell_type": "code",
   "execution_count": 15,
   "id": "3cc8fe3b",
   "metadata": {},
   "outputs": [
    {
     "data": {
      "image/png": "[encoded data removed]",
      "text/plain": [
       "<Figure size 800x600 with 1 Axes>"
      ]
     },
     "metadata": {},
     "output_type": "display_data"
    }
   ],
   "source": [
    "import seaborn as sns\n",
    "plt.figure(figsize=(8, 6))\n",
    "sns.histplot(df['Price_Kg'], bins=30, kde=True)\n",
    "plt.title('Price_Kg Distribution')\n",
    "plt.xlabel('Price_Kg')\n",
    "plt.show()"
   ]
  },
  {
   "cell_type": "code",
   "execution_count": 16,
   "id": "baa9ec62",
   "metadata": {},
   "outputs": [
    {
     "data": {
      "image/png": "[encoded data removed]",
      "text/plain": [
       "<Figure size 800x600 with 1 Axes>"
      ]
     },
     "metadata": {},
     "output_type": "display_data"
    }
   ],
   "source": [
    "plt.figure(figsize=(8, 6))\n",
    "sns.scatterplot(x='Area', y='Price_Kg', data=df)\n",
    "plt.title('Scatterplot of Area vs Price_Kg')\n",
    "plt.xlabel('Area')\n",
    "plt.ylabel('Price_Kg')\n",
    "plt.show()"
   ]
  },
  {
   "cell_type": "code",
   "execution_count": 17,
   "id": "9b19fe64",
   "metadata": {},
   "outputs": [
    {
     "data": {
      "image/png": "[encoded data removed]",
      "text/plain": [
       "<Figure size 1000x600 with 1 Axes>"
      ]
     },
     "metadata": {},
     "output_type": "display_data"
    }
   ],
   "source": [
    "plt.figure(figsize=(10, 6))\n",
    "sns.boxplot(x='Season', y='Price_Kg', data=df)\n",
    "plt.title('Price_Kg by Season')\n",
    "plt.xticks(rotation=45)\n",
    "plt.show()"
   ]
  },
  {
   "cell_type": "markdown",
   "id": "dad1d736",
   "metadata": {},
   "source": [
    "# Model Building (Using Pipeline)"
   ]
  },
  {
   "cell_type": "code",
   "execution_count": 18,
   "id": "6a0c7f33",
   "metadata": {},
   "outputs": [],
   "source": [
    "X = df.iloc[:,:-1]\n",
    "y = df.iloc[:,-1]"
   ]
  },
  {
   "cell_type": "code",
   "execution_count": 19,
   "id": "2ed63a60",
   "metadata": {},
   "outputs": [],
   "source": [
    "import warnings\n",
    "warnings.filterwarnings('ignore')"
   ]
  },
  {
   "cell_type": "code",
   "execution_count": 20,
   "id": "05f4c831",
   "metadata": {},
   "outputs": [],
   "source": [
    "from sklearn.model_selection import train_test_split"
   ]
  },
  {
   "cell_type": "code",
   "execution_count": 21,
   "id": "097f77d9",
   "metadata": {},
   "outputs": [],
   "source": [
    "X_train, X_test, y_train, y_test = train_test_split(X, y, test_size=0.33, random_state=10)"
   ]
  },
  {
   "cell_type": "code",
   "execution_count": 22,
   "id": "ed28f8ed",
   "metadata": {},
   "outputs": [],
   "source": [
    "from sklearn.preprocessing import StandardScaler\n",
    "from sklearn.preprocessing import OneHotEncoder\n",
    "from sklearn.compose import ColumnTransformer\n",
    "from sklearn.impute import SimpleImputer\n",
    "from sklearn.pipeline import Pipeline"
   ]
  },
  {
   "cell_type": "code",
   "execution_count": 23,
   "id": "d74cc9bf",
   "metadata": {},
   "outputs": [],
   "source": [
    "cat_col = ['State_Name', 'District_Name', 'Season', 'Crop']\n",
    "num_col = ['Crop_Year', 'Area', 'Production']"
   ]
  },
  {
   "cell_type": "code",
   "execution_count": 24,
   "id": "e0060066",
   "metadata": {},
   "outputs": [
    {
     "data": {
      "text/plain": [
       "['State_Name', 'District_Name', 'Season', 'Crop']"
      ]
     },
     "execution_count": 24,
     "metadata": {},
     "output_type": "execute_result"
    }
   ],
   "source": [
    "cat_col"
   ]
  },
  {
   "cell_type": "code",
   "execution_count": 25,
   "id": "425a7f78",
   "metadata": {},
   "outputs": [
    {
     "data": {
      "text/plain": [
       "['Crop_Year', 'Area', 'Production']"
      ]
     },
     "execution_count": 25,
     "metadata": {},
     "output_type": "execute_result"
    }
   ],
   "source": [
    "num_col"
   ]
  },
  {
   "cell_type": "code",
   "execution_count": 26,
   "id": "363f0f94",
   "metadata": {},
   "outputs": [],
   "source": [
    "cat_pipeline = Pipeline(\n",
    "steps = [\n",
    "    ('simple imputer', SimpleImputer(strategy='most_frequent')), \n",
    "    ('one hot encoder', OneHotEncoder(handle_unknown='ignore'))\n",
    "]\n",
    ")"
   ]
  },
  {
   "cell_type": "code",
   "execution_count": 27,
   "id": "22763011",
   "metadata": {},
   "outputs": [],
   "source": [
    "num_pipeline = Pipeline(\n",
    "steps = [\n",
    "    ('simple imputer', SimpleImputer(strategy='mean')),\n",
    "    ('standerd scaler', StandardScaler())\n",
    "]\n",
    ")"
   ]
  },
  {
   "cell_type": "code",
   "execution_count": 28,
   "id": "fe0ae85d",
   "metadata": {},
   "outputs": [],
   "source": [
    "processor = ColumnTransformer(\n",
    "[\n",
    "    ('cat_pipeline', cat_pipeline, cat_col), \n",
    "    ('num_pipeline', num_pipeline, num_col)\n",
    "]\n",
    ")"
   ]
  },
  {
   "cell_type": "code",
   "execution_count": 29,
   "id": "d8062d5a",
   "metadata": {},
   "outputs": [],
   "source": [
    "X_train = processor.fit_transform(X_train)\n",
    "X_test = processor.transform(X_test)"
   ]
  },
  {
   "cell_type": "markdown",
   "id": "aac2a10e",
   "metadata": {},
   "source": [
    "# Model Training"
   ]
  },
  {
   "cell_type": "markdown",
   "id": "cfe5dd56",
   "metadata": {},
   "source": [
    "# Linear Regression"
   ]
  },
  {
   "cell_type": "code",
   "execution_count": 30,
   "id": "fca859fc",
   "metadata": {},
   "outputs": [],
   "source": [
    "from sklearn.linear_model import LinearRegression"
   ]
  },
  {
   "cell_type": "code",
   "execution_count": 31,
   "id": "6db76cc6",
   "metadata": {},
   "outputs": [],
   "source": [
    "linear = LinearRegression()"
   ]
  },
  {
   "cell_type": "code",
   "execution_count": 32,
   "id": "053fbe83",
   "metadata": {},
   "outputs": [
    {
     "data": {
      "text/plain": [
       "LinearRegression()"
      ]
     },
     "execution_count": 32,
     "metadata": {},
     "output_type": "execute_result"
    }
   ],
   "source": [
    "linear.fit(X_train, y_train)"
   ]
  },
  {
   "cell_type": "code",
   "execution_count": 33,
   "id": "9bbab094",
   "metadata": {},
   "outputs": [],
   "source": [
    "y_pred = linear.predict(X_test)"
   ]
  },
  {
   "cell_type": "code",
   "execution_count": 34,
   "id": "a3bef5f5",
   "metadata": {},
   "outputs": [],
   "source": [
    "from sklearn.metrics import r2_score"
   ]
  },
  {
   "cell_type": "code",
   "execution_count": 35,
   "id": "2a26386b",
   "metadata": {},
   "outputs": [
    {
     "name": "stdout",
     "output_type": "stream",
     "text": [
      "0.9410086605775393\n"
     ]
    }
   ],
   "source": [
    "print(r2_score(y_test, y_pred))"
   ]
  },
  {
   "cell_type": "markdown",
   "id": "d55fe2a5",
   "metadata": {},
   "source": [
    "# Decision Tree:"
   ]
  },
  {
   "cell_type": "code",
   "execution_count": 36,
   "id": "f86afd56",
   "metadata": {},
   "outputs": [],
   "source": [
    "from sklearn.tree import DecisionTreeRegressor\n",
    "from sklearn.naive_bayes import GaussianNB"
   ]
  },
  {
   "cell_type": "code",
   "execution_count": 37,
   "id": "ccf46f46",
   "metadata": {},
   "outputs": [],
   "source": [
    "d_tree = DecisionTreeRegressor()"
   ]
  },
  {
   "cell_type": "code",
   "execution_count": 38,
   "id": "b67af671",
   "metadata": {},
   "outputs": [
    {
     "data": {
      "text/plain": [
       "DecisionTreeRegressor()"
      ]
     },
     "execution_count": 38,
     "metadata": {},
     "output_type": "execute_result"
    }
   ],
   "source": [
    "d_tree.fit(X_train, y_train)"
   ]
  },
  {
   "cell_type": "code",
   "execution_count": 39,
   "id": "53a6e186",
   "metadata": {},
   "outputs": [],
   "source": [
    "y_pred = d_tree.predict(X_test)"
   ]
  },
  {
   "cell_type": "code",
   "execution_count": 40,
   "id": "a03702c6",
   "metadata": {},
   "outputs": [
    {
     "name": "stdout",
     "output_type": "stream",
     "text": [
      "0.996293710634991\n"
     ]
    }
   ],
   "source": [
    "print(r2_score(y_test, y_pred))"
   ]
  },
  {
   "cell_type": "markdown",
   "id": "632c2f98",
   "metadata": {},
   "source": [
    "# Model Testing"
   ]
  },
  {
   "cell_type": "code",
   "execution_count": 67,
   "id": "f0d70f33",
   "metadata": {},
   "outputs": [],
   "source": [
    "new_data_point = pd.DataFrame({'State_Name': ['Assam'],\n",
    "                               'District_Name': ['NICOBARS'],\n",
    "                               'Crop_Year': [2010],\n",
    "                               'Season': ['Kharif'],\n",
    "                               'Crop': ['Rice'],\n",
    "                               'Area': [102.0],\n",
    "                               'Production': [321.0]})"
   ]
  },
  {
   "cell_type": "code",
   "execution_count": 68,
   "id": "afec33ea",
   "metadata": {},
   "outputs": [],
   "source": [
    "new_data_point_transformed = processor.transform(new_data_point)"
   ]
  },
  {
   "cell_type": "code",
   "execution_count": 69,
   "id": "738b07fc",
   "metadata": {},
   "outputs": [],
   "source": [
    "linear_price = linear.predict(new_data_point_transformed)"
   ]
  },
  {
   "cell_type": "code",
   "execution_count": 70,
   "id": "830b8697",
   "metadata": {},
   "outputs": [
    {
     "name": "stdout",
     "output_type": "stream",
     "text": [
      "The price of the crop according to linear regression is: [34.20701845]\n"
     ]
    }
   ],
   "source": [
    "print(\"The price of the crop according to linear regression is:\", linear_price)"
   ]
  },
  {
   "cell_type": "code",
   "execution_count": 71,
   "id": "431c5444",
   "metadata": {},
   "outputs": [],
   "source": [
    "d_tree_price = d_tree.predict(new_data_point_transformed)"
   ]
  },
  {
   "cell_type": "code",
   "execution_count": 72,
   "id": "3229e32d",
   "metadata": {},
   "outputs": [
    {
     "name": "stdout",
     "output_type": "stream",
     "text": [
      "The price of the crop according to Decision Tree is: [34.]\n"
     ]
    }
   ],
   "source": [
    "print(\"The price of the crop according to Decision Tree is:\", d_tree_price)"
   ]
  },
  {
   "cell_type": "code",
   "execution_count": 60,
   "id": "d2b9331e",
   "metadata": {},
   "outputs": [],
   "source": [
    "#sns.pairplot(df[['Price_Kg', 'Crop_Year', 'Area', 'Production']])\n",
    "#plt.show()"
   ]
  },
  {
   "cell_type": "code",
   "execution_count": null,
   "id": "51ad3973",
   "metadata": {},
   "outputs": [],
   "source": []
  }
 ],
 "metadata": {
  "kernelspec": {
   "display_name": "Python 3 (ipykernel)",
   "language": "python",
   "name": "python3"
  },
  "language_info": {
   "codemirror_mode": {
    "name": "ipython",
    "version": 3
   },
   "file_extension": ".py",
   "mimetype": "text/x-python",
   "name": "python",
   "nbconvert_exporter": "python",
   "pygments_lexer": "ipython3",
   "version": "3.9.13"
  }
 },
 "nbformat": 4,
 "nbformat_minor": 5
}
